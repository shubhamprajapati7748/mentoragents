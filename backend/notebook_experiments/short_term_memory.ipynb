{
 "cells": [
  {
   "cell_type": "code",
   "execution_count": 1,
   "metadata": {},
   "outputs": [
    {
     "data": {
      "text/plain": [
       "True"
      ]
     },
     "execution_count": 1,
     "metadata": {},
     "output_type": "execute_result"
    }
   ],
   "source": [
    "import os \n",
    "from dotenv import load_dotenv\n",
    "\n",
    "load_dotenv()"
   ]
  },
  {
   "cell_type": "code",
   "execution_count": 2,
   "metadata": {},
   "outputs": [
    {
     "name": "stderr",
     "output_type": "stream",
     "text": [
      "OPIK: ========================\n",
      "The API key must be specified to log data to https://www.comet.com/opik.\n",
      "You can use `opik configure` CLI command to configure your environment for logging.\n",
      "See the configuration details in the docs: https://www.comet.com/docs/opik/tracing/sdk_configuration.\n",
      "\n",
      "==============================\n",
      "\n"
     ]
    },
    {
     "name": "stdout",
     "output_type": "stream",
     "text": [
      "\n"
     ]
    },
    {
     "name": "stderr",
     "output_type": "stream",
     "text": [
      "\u001b[32m2025-06-30 18:44:46.751\u001b[0m | \u001b[33m\u001b[1mWARNING \u001b[0m | \u001b[36mmentoragents.workflow.prompt\u001b[0m:\u001b[36m__init__\u001b[0m:\u001b[36m17\u001b[0m - \u001b[33m\u001b[1mCan't use Opik to version the prompt (probably due to missing or invalid credentials). Falling back to local prompt. The prompt is not versioned, but it's still usable.\u001b[0m\n",
      "\u001b[32m2025-06-30 18:44:46.996\u001b[0m | \u001b[33m\u001b[1mWARNING \u001b[0m | \u001b[36mmentoragents.workflow.prompt\u001b[0m:\u001b[36m__init__\u001b[0m:\u001b[36m17\u001b[0m - \u001b[33m\u001b[1mCan't use Opik to version the prompt (probably due to missing or invalid credentials). Falling back to local prompt. The prompt is not versioned, but it's still usable.\u001b[0m\n",
      "\u001b[32m2025-06-30 18:44:47.214\u001b[0m | \u001b[33m\u001b[1mWARNING \u001b[0m | \u001b[36mmentoragents.workflow.prompt\u001b[0m:\u001b[36m__init__\u001b[0m:\u001b[36m17\u001b[0m - \u001b[33m\u001b[1mCan't use Opik to version the prompt (probably due to missing or invalid credentials). Falling back to local prompt. The prompt is not versioned, but it's still usable.\u001b[0m\n",
      "\u001b[32m2025-06-30 18:44:47.447\u001b[0m | \u001b[33m\u001b[1mWARNING \u001b[0m | \u001b[36mmentoragents.workflow.prompt\u001b[0m:\u001b[36m__init__\u001b[0m:\u001b[36m17\u001b[0m - \u001b[33m\u001b[1mCan't use Opik to version the prompt (probably due to missing or invalid credentials). Falling back to local prompt. The prompt is not versioned, but it's still usable.\u001b[0m\n",
      "\u001b[32m2025-06-30 18:44:47.667\u001b[0m | \u001b[33m\u001b[1mWARNING \u001b[0m | \u001b[36mmentoragents.workflow.prompt\u001b[0m:\u001b[36m__init__\u001b[0m:\u001b[36m17\u001b[0m - \u001b[33m\u001b[1mCan't use Opik to version the prompt (probably due to missing or invalid credentials). Falling back to local prompt. The prompt is not versioned, but it's still usable.\u001b[0m\n"
     ]
    }
   ],
   "source": [
    "from langchain_core.messages import HumanMessage\n",
    "from langgraph.checkpoint.mongodb.aio import AsyncMongoDBSaver, AsyncIOMotorClient\n",
    "from mentoragents.workflow.graph import MentorGraph \n",
    "from mentoragents.core.config import settings \n",
    "from mentoragents.models.mentor import Mentor"
   ]
  },
  {
   "cell_type": "code",
   "execution_count": 3,
   "metadata": {},
   "outputs": [],
   "source": [
    "async def generate_response_without_memory(mentor : Mentor, messages : list): \n",
    "    graph = MentorGraph().build()\n",
    "    graph = graph.compile()\n",
    "    output_state = await graph.ainvoke(\n",
    "        input = {\n",
    "            \"messages\" : messages, \n",
    "            \"mentor_name\" : mentor.mentor_name,\n",
    "            \"mentor_expertise\" : mentor.mentor_expertise,\n",
    "            \"mentor_perspective\" : mentor.mentor_perspective,\n",
    "            \"mentor_style\" : mentor.mentor_style,   \n",
    "        }\n",
    "    )\n",
    "\n",
    "    last_message = output_state[\"messages\"][-1]\n",
    "    return last_message \n",
    "\n",
    "async def generate_response_with_memory(mentor : Mentor, messages : list):\n",
    "    async with AsyncMongoDBSaver.from_conn_string(\n",
    "        conn_string = settings.MONGO_URI,\n",
    "        db_name = settings.MONGO_DB_NAME,\n",
    "        checkpoint_collection_name = settings.MONGO_STATE_CHECKPOINT_COLLECTION,\n",
    "        writes_collection_name = settings.MONGO_STATE_WRITES_COLLECTION\n",
    "    ) as checkpoint_storage:\n",
    "        graph = MentorGraph().build()\n",
    "        graph = graph.compile(checkpointer = checkpoint_storage)\n",
    "\n",
    "        config = {\n",
    "            \"configurable\" : {\n",
    "                \"thread_id\" : mentor.id,\n",
    "            }\n",
    "        }\n",
    "\n",
    "        output_state = await graph.ainvoke(\n",
    "            input = {\n",
    "                \"messages\" : messages,\n",
    "                \"mentor_name\" : mentor.mentor_name,\n",
    "                \"mentor_expertise\" : mentor.mentor_expertise,\n",
    "                \"mentor_perspective\" : mentor.mentor_perspective,\n",
    "                \"mentor_style\" : mentor.mentor_style,\n",
    "            },\n",
    "            config = config\n",
    "        )\n",
    "\n",
    "        last_message = output_state[\"messages\"][-1]\n",
    "        return last_message "
   ]
  },
  {
   "cell_type": "markdown",
   "metadata": {},
   "source": [
    "### MentorAgent without short_term memory"
   ]
  },
  {
   "cell_type": "code",
   "execution_count": 4,
   "metadata": {},
   "outputs": [
    {
     "name": "stderr",
     "output_type": "stream",
     "text": [
      "\u001b[32m2025-06-30 18:44:48.716\u001b[0m | \u001b[1mINFO    \u001b[0m | \u001b[36mmentoragents.rag.embeddings\u001b[0m:\u001b[36mget_hf_model\u001b[0m:\u001b[36m19\u001b[0m - \u001b[1mInitializing HuggingFaceEmbeddings with model name: sentence-transformers/all-MiniLM-L6-v2 and device: cpu\u001b[0m\n",
      "/Users/shubhamp/Documents/new/mentoragents/backend/venvmentor/lib/python3.12/site-packages/tqdm/auto.py:21: TqdmWarning: IProgress not found. Please update jupyter and ipywidgets. See https://ipywidgets.readthedocs.io/en/stable/user_install.html\n",
      "  from .autonotebook import tqdm as notebook_tqdm\n",
      "\u001b[32m2025-06-30 18:45:04.035\u001b[0m | \u001b[1mINFO    \u001b[0m | \u001b[36mmentoragents.rag.retrievers\u001b[0m:\u001b[36mget_hybrid_search_mongodb_retriever\u001b[0m:\u001b[36m25\u001b[0m - \u001b[1mInitializing MongoDBAtlasVectorSearchRetriever with embedding model: sentence-transformers/all-MiniLM-L6-v2 and k: 3\u001b[0m\n",
      "\u001b[32m2025-06-30 18:45:04.208\u001b[0m | \u001b[1mINFO    \u001b[0m | \u001b[36mmentoragents.rag.embeddings\u001b[0m:\u001b[36mget_hf_model\u001b[0m:\u001b[36m19\u001b[0m - \u001b[1mInitializing HuggingFaceEmbeddings with model name: sentence-transformers/all-MiniLM-L6-v2 and device: cpu\u001b[0m\n",
      "\u001b[32m2025-06-30 18:45:06.867\u001b[0m | \u001b[1mINFO    \u001b[0m | \u001b[36mmentoragents.rag.retrievers\u001b[0m:\u001b[36mget_hybrid_search_mongodb_retriever\u001b[0m:\u001b[36m25\u001b[0m - \u001b[1mInitializing MongoDBAtlasVectorSearchRetriever with embedding model: sentence-transformers/all-MiniLM-L6-v2 and k: 3\u001b[0m\n"
     ]
    },
    {
     "data": {
      "text/plain": [
       "AIMessage(content='Hi Shubham, I’m Andrej Karpathy. I focus on AI and machine learning. How can I help you today?', additional_kwargs={'refusal': None}, response_metadata={'token_usage': {'completion_tokens': 28, 'prompt_tokens': 274, 'total_tokens': 302, 'completion_tokens_details': {'accepted_prediction_tokens': 0, 'audio_tokens': 0, 'reasoning_tokens': 0, 'rejected_prediction_tokens': 0}, 'prompt_tokens_details': {'audio_tokens': 0, 'cached_tokens': 0}}, 'model_name': 'gpt-4o-mini-2024-07-18', 'system_fingerprint': 'fp_34a54ae93c', 'id': 'chatcmpl-Bo8dg6ejJjogsZpMTjLbDM5ruaGag', 'service_tier': 'default', 'finish_reason': 'stop', 'logprobs': None}, id='run--0213301b-22cd-4fff-95bb-588c60984ec6-0', usage_metadata={'input_tokens': 274, 'output_tokens': 28, 'total_tokens': 302, 'input_token_details': {'audio': 0, 'cache_read': 0}, 'output_token_details': {'audio': 0, 'reasoning': 0}})"
      ]
     },
     "execution_count": 4,
     "metadata": {},
     "output_type": "execute_result"
    }
   ],
   "source": [
    "test_mentor = Mentor(\n",
    "    id = \"andrej_karpathy\",\n",
    "    mentor_name = \"Andrej Karpathy\",\n",
    "    mentor_expertise = \"AI and Machine Learning\",\n",
    "    mentor_perspective = \"AI and Machine Learning\",\n",
    "    mentor_style = \"AI and Machine Learning\",\n",
    ")\n",
    "\n",
    "user_message = [\n",
    "    HumanMessage(content=\"Hello, my name is Shubham\")\n",
    "]\n",
    "\n",
    "await generate_response_without_memory(test_mentor, user_message)"
   ]
  },
  {
   "cell_type": "code",
   "execution_count": 5,
   "metadata": {},
   "outputs": [
    {
     "name": "stderr",
     "output_type": "stream",
     "text": [
      "\u001b[32m2025-06-30 18:45:08.812\u001b[0m | \u001b[1mINFO    \u001b[0m | \u001b[36mmentoragents.rag.embeddings\u001b[0m:\u001b[36mget_hf_model\u001b[0m:\u001b[36m19\u001b[0m - \u001b[1mInitializing HuggingFaceEmbeddings with model name: sentence-transformers/all-MiniLM-L6-v2 and device: cpu\u001b[0m\n",
      "\u001b[32m2025-06-30 18:45:11.674\u001b[0m | \u001b[1mINFO    \u001b[0m | \u001b[36mmentoragents.rag.retrievers\u001b[0m:\u001b[36mget_hybrid_search_mongodb_retriever\u001b[0m:\u001b[36m25\u001b[0m - \u001b[1mInitializing MongoDBAtlasVectorSearchRetriever with embedding model: sentence-transformers/all-MiniLM-L6-v2 and k: 3\u001b[0m\n",
      "\u001b[32m2025-06-30 18:45:11.779\u001b[0m | \u001b[1mINFO    \u001b[0m | \u001b[36mmentoragents.rag.embeddings\u001b[0m:\u001b[36mget_hf_model\u001b[0m:\u001b[36m19\u001b[0m - \u001b[1mInitializing HuggingFaceEmbeddings with model name: sentence-transformers/all-MiniLM-L6-v2 and device: cpu\u001b[0m\n",
      "\u001b[32m2025-06-30 18:45:14.738\u001b[0m | \u001b[1mINFO    \u001b[0m | \u001b[36mmentoragents.rag.retrievers\u001b[0m:\u001b[36mget_hybrid_search_mongodb_retriever\u001b[0m:\u001b[36m25\u001b[0m - \u001b[1mInitializing MongoDBAtlasVectorSearchRetriever with embedding model: sentence-transformers/all-MiniLM-L6-v2 and k: 3\u001b[0m\n"
     ]
    },
    {
     "data": {
      "text/plain": [
       "AIMessage(content=\"I don't know your name yet. What's your name?\", additional_kwargs={'refusal': None}, response_metadata={'token_usage': {'completion_tokens': 12, 'prompt_tokens': 272, 'total_tokens': 284, 'completion_tokens_details': {'accepted_prediction_tokens': 0, 'audio_tokens': 0, 'reasoning_tokens': 0, 'rejected_prediction_tokens': 0}, 'prompt_tokens_details': {'audio_tokens': 0, 'cached_tokens': 0}}, 'model_name': 'gpt-4o-mini-2024-07-18', 'system_fingerprint': 'fp_34a54ae93c', 'id': 'chatcmpl-Bo8dnOxRxqHaeiQtXLGIl7HyA55Wo', 'service_tier': 'default', 'finish_reason': 'stop', 'logprobs': None}, id='run--33aaafb4-6e75-41c2-ae04-b1982b8b5e28-0', usage_metadata={'input_tokens': 272, 'output_tokens': 12, 'total_tokens': 284, 'input_token_details': {'audio': 0, 'cache_read': 0}, 'output_token_details': {'audio': 0, 'reasoning': 0}})"
      ]
     },
     "execution_count": 5,
     "metadata": {},
     "output_type": "execute_result"
    }
   ],
   "source": [
    "messages = [\n",
    "    HumanMessage(content=\"Do you know my name?\")\n",
    "]\n",
    "\n",
    "await generate_response_without_memory(test_mentor, messages)"
   ]
  },
  {
   "cell_type": "markdown",
   "metadata": {},
   "source": [
    "### PhiloAgent with short term memory\n"
   ]
  },
  {
   "cell_type": "code",
   "execution_count": 6,
   "metadata": {},
   "outputs": [
    {
     "name": "stderr",
     "output_type": "stream",
     "text": [
      "\u001b[32m2025-06-30 18:45:16.835\u001b[0m | \u001b[1mINFO    \u001b[0m | \u001b[36mmentoragents.rag.embeddings\u001b[0m:\u001b[36mget_hf_model\u001b[0m:\u001b[36m19\u001b[0m - \u001b[1mInitializing HuggingFaceEmbeddings with model name: sentence-transformers/all-MiniLM-L6-v2 and device: cpu\u001b[0m\n",
      "\u001b[32m2025-06-30 18:45:19.648\u001b[0m | \u001b[1mINFO    \u001b[0m | \u001b[36mmentoragents.rag.retrievers\u001b[0m:\u001b[36mget_hybrid_search_mongodb_retriever\u001b[0m:\u001b[36m25\u001b[0m - \u001b[1mInitializing MongoDBAtlasVectorSearchRetriever with embedding model: sentence-transformers/all-MiniLM-L6-v2 and k: 3\u001b[0m\n",
      "\u001b[32m2025-06-30 18:45:19.738\u001b[0m | \u001b[1mINFO    \u001b[0m | \u001b[36mmentoragents.rag.embeddings\u001b[0m:\u001b[36mget_hf_model\u001b[0m:\u001b[36m19\u001b[0m - \u001b[1mInitializing HuggingFaceEmbeddings with model name: sentence-transformers/all-MiniLM-L6-v2 and device: cpu\u001b[0m\n",
      "\u001b[32m2025-06-30 18:45:22.471\u001b[0m | \u001b[1mINFO    \u001b[0m | \u001b[36mmentoragents.rag.retrievers\u001b[0m:\u001b[36mget_hybrid_search_mongodb_retriever\u001b[0m:\u001b[36m25\u001b[0m - \u001b[1mInitializing MongoDBAtlasVectorSearchRetriever with embedding model: sentence-transformers/all-MiniLM-L6-v2 and k: 3\u001b[0m\n"
     ]
    },
    {
     "data": {
      "text/plain": [
       "AIMessage(content=\"Hi Shubham, nice to meet you! I'm Andrej Karpathy. What can I help you with today regarding AI or machine learning?\", additional_kwargs={'refusal': None}, response_metadata={'token_usage': {'completion_tokens': 30, 'prompt_tokens': 354, 'total_tokens': 384, 'completion_tokens_details': {'accepted_prediction_tokens': 0, 'audio_tokens': 0, 'reasoning_tokens': 0, 'rejected_prediction_tokens': 0}, 'prompt_tokens_details': {'audio_tokens': 0, 'cached_tokens': 0}}, 'model_name': 'gpt-4o-mini-2024-07-18', 'system_fingerprint': 'fp_34a54ae93c', 'id': 'chatcmpl-Bo8dv81UQViq7VphdG9r2ajf1KVec', 'service_tier': 'default', 'finish_reason': 'stop', 'logprobs': None}, id='run--dbbc4605-6040-4b93-8802-6a092d7a7477-0', usage_metadata={'input_tokens': 354, 'output_tokens': 30, 'total_tokens': 384, 'input_token_details': {'audio': 0, 'cache_read': 0}, 'output_token_details': {'audio': 0, 'reasoning': 0}})"
      ]
     },
     "execution_count": 6,
     "metadata": {},
     "output_type": "execute_result"
    }
   ],
   "source": [
    "test_mentor = Mentor(\n",
    "    id = \"andrej_karpathy\",\n",
    "    mentor_name = \"Andrej Karpathy\",\n",
    "    mentor_expertise = \"AI and Machine Learning\",\n",
    "    mentor_perspective = \"AI and Machine Learning\",\n",
    "    mentor_style = \"AI and Machine Learning\",\n",
    ")\n",
    "\n",
    "user_message = [\n",
    "    HumanMessage(content=\"Hello, my name is Shubham\")\n",
    "]\n",
    "\n",
    "await generate_response_with_memory(test_mentor, user_message)"
   ]
  },
  {
   "cell_type": "code",
   "execution_count": 7,
   "metadata": {},
   "outputs": [
    {
     "name": "stderr",
     "output_type": "stream",
     "text": [
      "\u001b[32m2025-06-30 18:45:25.293\u001b[0m | \u001b[1mINFO    \u001b[0m | \u001b[36mmentoragents.rag.embeddings\u001b[0m:\u001b[36mget_hf_model\u001b[0m:\u001b[36m19\u001b[0m - \u001b[1mInitializing HuggingFaceEmbeddings with model name: sentence-transformers/all-MiniLM-L6-v2 and device: cpu\u001b[0m\n",
      "\u001b[32m2025-06-30 18:45:28.318\u001b[0m | \u001b[1mINFO    \u001b[0m | \u001b[36mmentoragents.rag.retrievers\u001b[0m:\u001b[36mget_hybrid_search_mongodb_retriever\u001b[0m:\u001b[36m25\u001b[0m - \u001b[1mInitializing MongoDBAtlasVectorSearchRetriever with embedding model: sentence-transformers/all-MiniLM-L6-v2 and k: 3\u001b[0m\n",
      "\u001b[32m2025-06-30 18:45:28.414\u001b[0m | \u001b[1mINFO    \u001b[0m | \u001b[36mmentoragents.rag.embeddings\u001b[0m:\u001b[36mget_hf_model\u001b[0m:\u001b[36m19\u001b[0m - \u001b[1mInitializing HuggingFaceEmbeddings with model name: sentence-transformers/all-MiniLM-L6-v2 and device: cpu\u001b[0m\n",
      "\u001b[32m2025-06-30 18:45:31.267\u001b[0m | \u001b[1mINFO    \u001b[0m | \u001b[36mmentoragents.rag.retrievers\u001b[0m:\u001b[36mget_hybrid_search_mongodb_retriever\u001b[0m:\u001b[36m25\u001b[0m - \u001b[1mInitializing MongoDBAtlasVectorSearchRetriever with embedding model: sentence-transformers/all-MiniLM-L6-v2 and k: 3\u001b[0m\n"
     ]
    },
    {
     "data": {
      "text/plain": [
       "AIMessage(content='Yes, your name is Shubham. How can I assist you today?', additional_kwargs={'refusal': None}, response_metadata={'token_usage': {'completion_tokens': 17, 'prompt_tokens': 397, 'total_tokens': 414, 'completion_tokens_details': {'accepted_prediction_tokens': 0, 'audio_tokens': 0, 'reasoning_tokens': 0, 'rejected_prediction_tokens': 0}, 'prompt_tokens_details': {'audio_tokens': 0, 'cached_tokens': 0}}, 'model_name': 'gpt-4o-mini-2024-07-18', 'system_fingerprint': 'fp_34a54ae93c', 'id': 'chatcmpl-Bo8e4z7P45tjvrfCjZrh24nSmX6d2', 'service_tier': 'default', 'finish_reason': 'stop', 'logprobs': None}, id='run--d3461e65-46cf-48a6-b8e3-0447d26657e4-0', usage_metadata={'input_tokens': 397, 'output_tokens': 17, 'total_tokens': 414, 'input_token_details': {'audio': 0, 'cache_read': 0}, 'output_token_details': {'audio': 0, 'reasoning': 0}})"
      ]
     },
     "execution_count": 7,
     "metadata": {},
     "output_type": "execute_result"
    }
   ],
   "source": [
    "messages = [\n",
    "    HumanMessage(content=\"Do you know my name?\")\n",
    "]\n",
    "\n",
    "await generate_response_with_memory(test_mentor, messages)"
   ]
  }
 ],
 "metadata": {
  "kernelspec": {
   "display_name": "Python 3",
   "language": "python",
   "name": "python3"
  },
  "language_info": {
   "codemirror_mode": {
    "name": "ipython",
    "version": 3
   },
   "file_extension": ".py",
   "mimetype": "text/x-python",
   "name": "python",
   "nbconvert_exporter": "python",
   "pygments_lexer": "ipython3",
   "version": "3.12.0"
  }
 },
 "nbformat": 4,
 "nbformat_minor": 2
}
