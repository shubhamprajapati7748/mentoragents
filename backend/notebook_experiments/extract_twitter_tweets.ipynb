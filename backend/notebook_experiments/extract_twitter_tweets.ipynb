{
 "cells": [
  {
   "cell_type": "code",
   "execution_count": 1,
   "metadata": {},
   "outputs": [
    {
     "data": {
      "text/plain": [
       "True"
      ]
     },
     "execution_count": 1,
     "metadata": {},
     "output_type": "execute_result"
    }
   ],
   "source": [
    "import os\n",
    "\n",
    "from dotenv import load_dotenv\n",
    "load_dotenv()"
   ]
  },
  {
   "cell_type": "code",
   "execution_count": 2,
   "metadata": {},
   "outputs": [],
   "source": [
    "from langchain_core.documents import Document\n",
    "from loguru import logger\n",
    "from mentoragents.models.mentor_extract import MentorExtract\n",
    "from arcadepy import Arcade\n",
    "import os\n",
    "from mentoragents.core.config import settings\n",
    "\n",
    "def extract_twitter_tweets(mentor_extract : MentorExtract, max_tweets : int = 100) -> list[Document]:\n",
    "    \"\"\"Extract tweets from Twitter for a given mentor.\n",
    "\n",
    "    Args:\n",
    "        mentor_extract : MentorExtract object containing mentor details.\n",
    "\n",
    "    Returns:\n",
    "        list[Document] : List of documents extracted from Twitter.\n",
    "    \"\"\"\n",
    "    logger.info(f\"Extracting tweets from Twitter for {mentor_extract.name}\")\n",
    "\n",
    "    ARCADE_API_KEY = settings.ARCADE_API_KEY\n",
    "    USER_ID = settings.ARCADE_USER_ID\n",
    "    client = Arcade(api_key=ARCADE_API_KEY)\n",
    "    TOOL_NAME = \"X.SearchRecentTweetsByUsername\"\n",
    "\n",
    "    all_tweets = get_all_tweets(client, mentor_extract.twitter_handle, USER_ID, TOOL_NAME, max_tweets)\n",
    "\n",
    "    tweets = []\n",
    "    for tweet in all_tweets:\n",
    "        tweets.append(Document(\n",
    "            page_content = tweet[\"text\"],\n",
    "            metadata = {\n",
    "                \"mentor_id\" : mentor_extract.id,\n",
    "                \"mentor_name\" : mentor_extract.name,\n",
    "                \"source\" : \"twitter\",\n",
    "                \"source_url\" : tweet[\"tweet_url\"],\n",
    "            }\n",
    "        ))\n",
    "\n",
    "    logger.info(f\"Extracted {len(tweets)} tweets from Twitter for {mentor_extract.name}\")\n",
    "    return tweets\n",
    "\n",
    "\n",
    "def get_all_tweets(client, username: str, user_id: str, tool_name: str = \"X.SearchRecentTweetsByUsername\", max_tweets: int = 100) -> list:\n",
    "    \"\"\"\n",
    "    Fetch all available tweets for a given username using pagination.\n",
    "    \n",
    "    Args:\n",
    "        client: Arcade client instance\n",
    "        username: Twitter username to fetch tweets for\n",
    "        user_id: Arcade user ID\n",
    "        tool_name: Name of the Arcade tool to use\n",
    "        \n",
    "    Returns:\n",
    "        list: All collected tweets\n",
    "    \"\"\"\n",
    "    all_tweets = []\n",
    "    next_token = None\n",
    "    \n",
    "    while True:\n",
    "        # Prepare inputs (include next_token if we have one)\n",
    "        inputs = {\"username\": username, \"max_results\": 100}\n",
    "        if next_token:\n",
    "            inputs[\"next_token\"] = next_token\n",
    "            \n",
    "        # Execute the request\n",
    "        response = client.tools.execute(\n",
    "            tool_name=tool_name,\n",
    "            input= {\n",
    "                \"owner\": \"ArcadeAI\",\n",
    "                \"name\": \"arcade-ai\",\n",
    "                \"starred\": \"true\",\n",
    "                \"username\": username,\n",
    "                \"max_results\": max_tweets\n",
    "            },\n",
    "            user_id=user_id,\n",
    "        )\n",
    "        \n",
    "        # Get tweets from the response\n",
    "        new_tweets = response.output.value['data']\n",
    "        all_tweets.extend(new_tweets)\n",
    "        \n",
    "        # Get next token if available\n",
    "        next_token = response.output.value[\"meta\"].get(\"next_token\", None)\n",
    "        \n",
    "        # If no next token, we've reached the end\n",
    "        if not next_token:\n",
    "            break\n",
    "            \n",
    "    return all_tweets"
   ]
  },
  {
   "cell_type": "code",
   "execution_count": 3,
   "metadata": {},
   "outputs": [],
   "source": [
    "mentor_extract = MentorExtract(\n",
    "    id = \"1\",\n",
    "    name = \"Naval Ravikant\",\n",
    "    twitter_handle = \"naval\",\n",
    "    expertise = \"Entrepreneurship, Investing, and Technology\",\n",
    "    perspective = \"Perspective on the future of technology and entrepreneurship\",\n",
    "    style = \"Style of the mentor\",\n",
    "    image_url = \"https://example.com/image.jpg\",\n",
    "    pdfs = [\"https://example.com/pdf1.pdf\", \"https://example.com/pdf2.pdf\"],\n",
    "    url = \"https://example.com\",\n",
    "    youtube_videos = [\"https://example.com/video1\", \"https://example.com/video2\"],\n",
    "    websites = [\"https://example.com\", \"https://example.com/2\"]\n",
    ")"
   ]
  },
  {
   "cell_type": "code",
   "execution_count": 4,
   "metadata": {},
   "outputs": [
    {
     "name": "stderr",
     "output_type": "stream",
     "text": [
      "\u001b[32m2025-07-02 16:44:20.148\u001b[0m | \u001b[1mINFO    \u001b[0m | \u001b[36m__main__\u001b[0m:\u001b[36mextract_twitter_tweets\u001b[0m:\u001b[36m17\u001b[0m - \u001b[1mExtracting tweets from Twitter for Naval Ravikant\u001b[0m\n",
      "\u001b[32m2025-07-02 16:44:21.809\u001b[0m | \u001b[1mINFO    \u001b[0m | \u001b[36m__main__\u001b[0m:\u001b[36mextract_twitter_tweets\u001b[0m:\u001b[36m38\u001b[0m - \u001b[1mExtracted 34 tweets from Twitter for Naval Ravikant\u001b[0m\n"
     ]
    },
    {
     "data": {
      "text/plain": [
       "[Document(metadata={'mentor_id': '1', 'mentor_name': 'Naval Ravikant', 'source': 'twitter', 'source_url': 'https://x.com/x/status/1940155841484923296'}, page_content='@BAYC5511 Communists in diapers.'),\n",
       " Document(metadata={'mentor_id': '1', 'mentor_name': 'Naval Ravikant', 'source': 'twitter', 'source_url': 'https://x.com/x/status/1940155276914827611'}, page_content='@jbraunstein914 Blocked for tone policing.'),\n",
       " Document(metadata={'mentor_id': '1', 'mentor_name': 'Naval Ravikant', 'source': 'twitter', 'source_url': 'https://x.com/x/status/1940155049050837336'}, page_content='RT @naval: It’s nationalists vs communists from here on out.'),\n",
       " Document(metadata={'mentor_id': '1', 'mentor_name': 'Naval Ravikant', 'source': 'twitter', 'source_url': 'https://x.com/x/status/1940007631495864431'}, page_content='@daan_jan Usually it’s a one-way door until some generation shoots their way out.'),\n",
       " Document(metadata={'mentor_id': '1', 'mentor_name': 'Naval Ravikant', 'source': 'twitter', 'source_url': 'https://x.com/x/status/1940006835471491307'}, page_content='@rodya_yard With any luck.'),\n",
       " Document(metadata={'mentor_id': '1', 'mentor_name': 'Naval Ravikant', 'source': 'twitter', 'source_url': 'https://x.com/x/status/1940006775392281082'}, page_content='@franz_gom Libertarianism can only emerge in the cocoon of a functioning, high-trust republic.'),\n",
       " Document(metadata={'mentor_id': '1', 'mentor_name': 'Naval Ravikant', 'source': 'twitter', 'source_url': 'https://x.com/x/status/1940006178291163413'}, page_content='@aiacapitalgroup A socialist is just an out-of-power communist.'),\n",
       " Document(metadata={'mentor_id': '1', 'mentor_name': 'Naval Ravikant', 'source': 'twitter', 'source_url': 'https://x.com/x/status/1940004314766078254'}, page_content='@thanayanreddy @kamaloffl Everything by Taleb.'),\n",
       " Document(metadata={'mentor_id': '1', 'mentor_name': 'Naval Ravikant', 'source': 'twitter', 'source_url': 'https://x.com/x/status/1940003269180629043'}, page_content='It’s nationalists vs communists from here on out.'),\n",
       " Document(metadata={'mentor_id': '1', 'mentor_name': 'Naval Ravikant', 'source': 'twitter', 'source_url': 'https://x.com/x/status/1939997166212456631'}, page_content='@kamaloffl Haven’t found anything great recently and I’m still absorbing Fabric of Reality, Schopenhauer’s Collected Works and I Am That. \\n\\nI’d rather reread the best of the best than go hunting for new books.'),\n",
       " Document(metadata={'mentor_id': '1', 'mentor_name': 'Naval Ravikant', 'source': 'twitter', 'source_url': 'https://x.com/x/status/1939957780443431299'}, page_content='RT @maximecperoumal: Instead of trying to change people, curate them.'),\n",
       " Document(metadata={'mentor_id': '1', 'mentor_name': 'Naval Ravikant', 'source': 'twitter', 'source_url': 'https://x.com/x/status/1939770982581117136'}, page_content='RT @wildbarestepf: “abolish capitalism!”\\n\\ncool. who grows the food???\\n\\nno seriously—who’s out there at dawn breaking their back in the dirt…'),\n",
       " Document(metadata={'mentor_id': '1', 'mentor_name': 'Naval Ravikant', 'source': 'twitter', 'source_url': 'https://x.com/x/status/1939276370045211058'}, page_content='@ale_moon10 If you can’t move, try online.'),\n",
       " Document(metadata={'mentor_id': '1', 'mentor_name': 'Naval Ravikant', 'source': 'twitter', 'source_url': 'https://x.com/x/status/1939274993545937290'}, page_content='@Luffy_Uchihaa Pour your intelligence into something where the creation is the motivation.'),\n",
       " Document(metadata={'mentor_id': '1', 'mentor_name': 'Naval Ravikant', 'source': 'twitter', 'source_url': 'https://x.com/x/status/1939274639966093395'}, page_content='@ziad_VX0 It’s competitive out there. If you aren’t passionate about it, you won’t be good enough at it. You have to find something that feels like play to you, but looks like work to others.'),\n",
       " Document(metadata={'mentor_id': '1', 'mentor_name': 'Naval Ravikant', 'source': 'twitter', 'source_url': 'https://x.com/x/status/1939271887961674188'}, page_content='@supercollider_x See my pinned thread. Unfortunately, it’s hard to be specific.'),\n",
       " Document(metadata={'mentor_id': '1', 'mentor_name': 'Naval Ravikant', 'source': 'twitter', 'source_url': 'https://x.com/x/status/1939268255232958848'}, page_content='@beast3858 @debjitsinha It’s the only surefire way to create it. And when you do, it feels better than being loved.'),\n",
       " Document(metadata={'mentor_id': '1', 'mentor_name': 'Naval Ravikant', 'source': 'twitter', 'source_url': 'https://x.com/x/status/1939265426124575009'}, page_content='@debjitsinha Not really, but each one helps with the next.'),\n",
       " Document(metadata={'mentor_id': '1', 'mentor_name': 'Naval Ravikant', 'source': 'twitter', 'source_url': 'https://x.com/x/status/1939263513157099657'}, page_content='Stay healthy, get wealthy, seek truth, give love, and create beauty.'),\n",
       " Document(metadata={'mentor_id': '1', 'mentor_name': 'Naval Ravikant', 'source': 'twitter', 'source_url': 'https://x.com/x/status/1939239662658474051'}, page_content='@minordissent 🤷🏻\\u200d♂️'),\n",
       " Document(metadata={'mentor_id': '1', 'mentor_name': 'Naval Ravikant', 'source': 'twitter', 'source_url': 'https://x.com/x/status/1938735953918796143'}, page_content='@MindBranches @elonmusk @Tesla_AI 💪'),\n",
       " Document(metadata={'mentor_id': '1', 'mentor_name': 'Naval Ravikant', 'source': 'twitter', 'source_url': 'https://x.com/x/status/1938734275794497965'}, page_content='@elonmusk @Tesla_AI Self-delivering cars!'),\n",
       " Document(metadata={'mentor_id': '1', 'mentor_name': 'Naval Ravikant', 'source': 'twitter', 'source_url': 'https://x.com/x/status/1938497479630266567'}, page_content=\"RT @akirathedon: It's the mark of a charlatan\\nTo explain simple things\\nIn a complex way\\nIt's the mark of a genius\\nTo explain\\nComplicated th…\"),\n",
       " Document(metadata={'mentor_id': '1', 'mentor_name': 'Naval Ravikant', 'source': 'twitter', 'source_url': 'https://x.com/x/status/1938476173413224699'}, page_content='The #1 thing you should look for in an investor is conviction.'),\n",
       " Document(metadata={'mentor_id': '1', 'mentor_name': 'Naval Ravikant', 'source': 'twitter', 'source_url': 'https://x.com/x/status/1938386377336623529'}, page_content='@esquizowin @thanayanreddy @ValourDiva @cremieuxrecueil That’s why I linked to Finnrick. Free test results from third parties.'),\n",
       " Document(metadata={'mentor_id': '1', 'mentor_name': 'Naval Ravikant', 'source': 'twitter', 'source_url': 'https://x.com/x/status/1938386245773856925'}, page_content='@Bitcoin_Scholar @thanayanreddy @ValourDiva @cremieuxrecueil They’re identical.'),\n",
       " Document(metadata={'mentor_id': '1', 'mentor_name': 'Naval Ravikant', 'source': 'twitter', 'source_url': 'https://x.com/x/status/1938354874892386565'}, page_content='The greater your ability, the bigger your tribe. https://twitter.com/elonmusk/status/1938169383412748489'),\n",
       " Document(metadata={'mentor_id': '1', 'mentor_name': 'Naval Ravikant', 'source': 'twitter', 'source_url': 'https://x.com/x/status/1938136009163870227'}, page_content='@RIICommunity How’re they doing in the space race compared to say…one private company, SpaceX?'),\n",
       " Document(metadata={'mentor_id': '1', 'mentor_name': 'Naval Ravikant', 'source': 'twitter', 'source_url': 'https://x.com/x/status/1938135106503495857'}, page_content='@thanayanreddy @ValourDiva Check @cremieuxrecueil guide:\\n\\nhttps://www.cremieux.xyz/p/how-to-get-cheap-ozempic\\n\\nAnd ratings:\\nhttps://www.finnrick.com'),\n",
       " Document(metadata={'mentor_id': '1', 'mentor_name': 'Naval Ravikant', 'source': 'twitter', 'source_url': 'https://x.com/x/status/1938133596642165168'}, page_content='@thanayanreddy @ValourDiva You can get semaglutide for $20/month online. Keep crying.'),\n",
       " Document(metadata={'mentor_id': '1', 'mentor_name': 'Naval Ravikant', 'source': 'twitter', 'source_url': 'https://x.com/x/status/1938132414418850173'}, page_content='@ValourDiva Capitalism just invented GLP-1s, basically curing / preventing diabetes.'),\n",
       " Document(metadata={'mentor_id': '1', 'mentor_name': 'Naval Ravikant', 'source': 'twitter', 'source_url': 'https://x.com/x/status/1938131280908193848'}, page_content='@sandipsrawat Homogenous societies, oil wealth, and defense subsidized by US.'),\n",
       " Document(metadata={'mentor_id': '1', 'mentor_name': 'Naval Ravikant', 'source': 'twitter', 'source_url': 'https://x.com/x/status/1938125942121213967'}, page_content='@ValourDiva Neither your lifestyle nor insulin would exist without capitalism.'),\n",
       " Document(metadata={'mentor_id': '1', 'mentor_name': 'Naval Ravikant', 'source': 'twitter', 'source_url': 'https://x.com/x/status/1938119629500780955'}, page_content='Socialism is the suicide pact of mediocrity.')]"
      ]
     },
     "execution_count": 4,
     "metadata": {},
     "output_type": "execute_result"
    }
   ],
   "source": [
    "extract_twitter_tweets(mentor_extract)"
   ]
  }
 ],
 "metadata": {
  "kernelspec": {
   "display_name": "Python 3",
   "language": "python",
   "name": "python3"
  },
  "language_info": {
   "codemirror_mode": {
    "name": "ipython",
    "version": 3
   },
   "file_extension": ".py",
   "mimetype": "text/x-python",
   "name": "python",
   "nbconvert_exporter": "python",
   "pygments_lexer": "ipython3",
   "version": "3.12.0"
  }
 },
 "nbformat": 4,
 "nbformat_minor": 2
}
