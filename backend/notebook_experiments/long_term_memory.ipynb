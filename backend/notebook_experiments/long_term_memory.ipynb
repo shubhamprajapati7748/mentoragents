{
 "cells": [
  {
   "cell_type": "code",
   "execution_count": 1,
   "metadata": {},
   "outputs": [
    {
     "data": {
      "text/plain": [
       "True"
      ]
     },
     "execution_count": 1,
     "metadata": {},
     "output_type": "execute_result"
    }
   ],
   "source": [
    "from dotenv import load_dotenv\n",
    "\n",
    "load_dotenv()"
   ]
  },
  {
   "cell_type": "code",
   "execution_count": 2,
   "metadata": {},
   "outputs": [],
   "source": [
    "from langchain_core.documents import Document \n",
    "from mentoragents.rag.memory.long_term_memory_retriever import LongTermMemoryRetriever"
   ]
  },
  {
   "cell_type": "code",
   "execution_count": 3,
   "metadata": {},
   "outputs": [],
   "source": [
    "from mentoragents.core.config import settings"
   ]
  },
  {
   "cell_type": "code",
   "execution_count": 4,
   "metadata": {},
   "outputs": [],
   "source": [
    "def print_memories(memories : list[Document]) -> None:\n",
    "    for i, memory in enumerate(memories):\n",
    "        print(\"-\"* 100)\n",
    "        print(f\"Memory {i + 1}:\")\n",
    "        print(f\"{i+1}. {memory.page_content[:100]}\")\n",
    "        print(f\"Source: {memory.metadata['source']}\")\n",
    "        print(\"-\"* 100)"
   ]
  },
  {
   "cell_type": "code",
   "execution_count": 5,
   "metadata": {},
   "outputs": [
    {
     "name": "stderr",
     "output_type": "stream",
     "text": [
      "\u001b[32m2025-07-01 07:35:45.900\u001b[0m | \u001b[1mINFO    \u001b[0m | \u001b[36mmentoragents.rag.embeddings\u001b[0m:\u001b[36mget_hf_model\u001b[0m:\u001b[36m19\u001b[0m - \u001b[1mInitializing HuggingFaceEmbeddings with model name: sentence-transformers/all-MiniLM-L6-v2 and device: cpu\u001b[0m\n",
      "/Users/shubhamp/Documents/new/mentoragents/backend/venvmentor/lib/python3.12/site-packages/tqdm/auto.py:21: TqdmWarning: IProgress not found. Please update jupyter and ipywidgets. See https://ipywidgets.readthedocs.io/en/stable/user_install.html\n",
      "  from .autonotebook import tqdm as notebook_tqdm\n",
      "\u001b[32m2025-07-01 07:36:30.440\u001b[0m | \u001b[1mINFO    \u001b[0m | \u001b[36mmentoragents.rag.retrievers\u001b[0m:\u001b[36mget_hybrid_search_mongodb_retriever\u001b[0m:\u001b[36m25\u001b[0m - \u001b[1mInitializing MongoDBAtlasVectorSearchRetriever with embedding model: sentence-transformers/all-MiniLM-L6-v2 and k: 3\u001b[0m\n"
     ]
    },
    {
     "name": "stdout",
     "output_type": "stream",
     "text": [
      "----------------------------------------------------------------------------------------------------\n",
      "Memory 1:\n",
      "1. Naval Ravikant (born November 5, 1974) is an Indian-born American entrepreneur and investor. He is t\n",
      "Source: https://en.wikipedia.org/wiki/Naval_Ravikant\n",
      "----------------------------------------------------------------------------------------------------\n",
      "----------------------------------------------------------------------------------------------------\n",
      "Memory 2:\n",
      "2. Ravikant and Ravikanth are given names of Indian origin. People with those names include:\n",
      "\n",
      "Ravikant \n",
      "Source: https://en.wikipedia.org/wiki/Ravikant\n",
      "----------------------------------------------------------------------------------------------------\n",
      "----------------------------------------------------------------------------------------------------\n",
      "Memory 3:\n",
      "3. === Nav.al, Spearhead, and other podcasts ===\n",
      "Naval runs a short-form podcast at Nav.al and Spearhea\n",
      "Source: https://en.wikipedia.org/wiki/Naval_Ravikant\n",
      "----------------------------------------------------------------------------------------------------\n"
     ]
    }
   ],
   "source": [
    "retriever = LongTermMemoryRetriever.build()\n",
    "memories = retriever(\"naval_ravikant\")\n",
    "print_memories(memories)"
   ]
  }
 ],
 "metadata": {
  "kernelspec": {
   "display_name": "Python 3",
   "language": "python",
   "name": "python3"
  },
  "language_info": {
   "codemirror_mode": {
    "name": "ipython",
    "version": 3
   },
   "file_extension": ".py",
   "mimetype": "text/x-python",
   "name": "python",
   "nbconvert_exporter": "python",
   "pygments_lexer": "ipython3",
   "version": "3.12.0"
  }
 },
 "nbformat": 4,
 "nbformat_minor": 2
}
